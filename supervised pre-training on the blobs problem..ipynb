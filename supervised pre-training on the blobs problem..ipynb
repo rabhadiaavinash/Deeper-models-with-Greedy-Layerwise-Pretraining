{
 "cells": [
  {
   "cell_type": "code",
   "execution_count": null,
   "metadata": {},
   "outputs": [],
   "source": []
  },
  {
   "cell_type": "code",
   "execution_count": 1,
   "metadata": {},
   "outputs": [
    {
     "name": "stderr",
     "output_type": "stream",
     "text": [
      "C:\\Anaconda3\\envs\\nlpiaenv\\lib\\site-packages\\sklearn\\utils\\deprecation.py:143: FutureWarning: The sklearn.datasets.samples_generator module is  deprecated in version 0.22 and will be removed in version 0.24. The corresponding classes / functions should instead be imported from sklearn.datasets. Anything that cannot be imported from sklearn.datasets is now part of the private API.\n",
      "  warnings.warn(message, FutureWarning)\n"
     ]
    }
   ],
   "source": [
    "from sklearn.datasets.samples_generator import make_blobs\n",
    "from tensorflow.keras.layers import Dense\n",
    "from tensorflow.keras.models import Sequential\n",
    "from tensorflow.keras.optimizers import SGD\n",
    "from tensorflow.keras.utils import to_categorical\n",
    "from matplotlib import pyplot"
   ]
  },
  {
   "cell_type": "code",
   "execution_count": null,
   "metadata": {},
   "outputs": [],
   "source": []
  },
  {
   "cell_type": "code",
   "execution_count": 2,
   "metadata": {},
   "outputs": [],
   "source": [
    "# prepare the dataset\n",
    "def prepare_data():\n",
    "    \n",
    "    # generate 2d classification dataset\n",
    "    X, y = make_blobs(n_samples=1000, centers=3, n_features=2, cluster_std=2, random_state=2)\n",
    "\n",
    "    # one hot encode output variable\n",
    "    y = to_categorical(y)\n",
    "\n",
    "    # split into train and test\n",
    "    n_train = 500\n",
    "    trainX, testX = X[:n_train, :], X[n_train:, :]\n",
    "    trainy, testy = y[:n_train], y[n_train:]\n",
    "    return trainX, testX, trainy, testy"
   ]
  },
  {
   "cell_type": "code",
   "execution_count": null,
   "metadata": {},
   "outputs": [],
   "source": []
  },
  {
   "cell_type": "code",
   "execution_count": 3,
   "metadata": {},
   "outputs": [],
   "source": [
    "# define and fit the base model\n",
    "def get_base_model(trainX, trainy):\n",
    "    \n",
    "    # define model\n",
    "    model = Sequential()\n",
    "    model.add(Dense(10, input_dim=2, activation='relu', kernel_initializer='he_uniform'))\n",
    "    model.add(Dense(3, activation='softmax'))\n",
    "    \n",
    "    # compile model\n",
    "    opt = SGD(lr=0.01, momentum=0.9)\n",
    "    model.compile(loss='categorical_crossentropy', optimizer=opt, metrics=['accuracy'])\n",
    "\n",
    "    # fit model\n",
    "    model.fit(trainX, trainy, epochs=100, verbose=0)\n",
    "    return model"
   ]
  },
  {
   "cell_type": "code",
   "execution_count": null,
   "metadata": {},
   "outputs": [],
   "source": []
  },
  {
   "cell_type": "code",
   "execution_count": 4,
   "metadata": {},
   "outputs": [],
   "source": [
    "# evaluate a fit model\n",
    "def evaluate_model(model, trainX, testX, trainy, testy):\n",
    "    _, train_acc = model.evaluate(trainX, trainy, verbose=0)\n",
    "    _, test_acc = model.evaluate(testX, testy, verbose=0)\n",
    "    return train_acc, test_acc"
   ]
  },
  {
   "cell_type": "code",
   "execution_count": null,
   "metadata": {},
   "outputs": [],
   "source": []
  },
  {
   "cell_type": "code",
   "execution_count": 5,
   "metadata": {},
   "outputs": [],
   "source": [
    "# add one new layer and re-train only the new layer\n",
    "def add_layer(model, trainX, trainy):\n",
    "    \n",
    "    # remember the current output layer\n",
    "    output_layer = model.layers[-1]\n",
    "\n",
    "    # remove the output layer\n",
    "    model.pop()\n",
    "\n",
    "    # mark all remaining layers as non-trainable\n",
    "    for layer in model.layers:\n",
    "        layer.trainable = False\n",
    "        \n",
    "    # add a new hidden layer\n",
    "    model.add(Dense(10, activation='relu', kernel_initializer='he_uniform'))\n",
    "    \n",
    "    # re-add the output layer\n",
    "    model.add(output_layer)\n",
    "\n",
    "    # fit model\n",
    "    model.fit(trainX, trainy, epochs=100, verbose=0)"
   ]
  },
  {
   "cell_type": "code",
   "execution_count": null,
   "metadata": {},
   "outputs": [],
   "source": []
  },
  {
   "cell_type": "code",
   "execution_count": 6,
   "metadata": {},
   "outputs": [],
   "source": [
    "# prepare data\n",
    "trainX, testX, trainy, testy = prepare_data()"
   ]
  },
  {
   "cell_type": "code",
   "execution_count": null,
   "metadata": {},
   "outputs": [],
   "source": []
  },
  {
   "cell_type": "code",
   "execution_count": 7,
   "metadata": {},
   "outputs": [],
   "source": [
    "# get the base model\n",
    "model = get_base_model(trainX, trainy)"
   ]
  },
  {
   "cell_type": "code",
   "execution_count": null,
   "metadata": {},
   "outputs": [],
   "source": []
  },
  {
   "cell_type": "code",
   "execution_count": 8,
   "metadata": {},
   "outputs": [
    {
     "name": "stdout",
     "output_type": "stream",
     "text": [
      "> layers=2, train=0.832, test=0.820\n"
     ]
    }
   ],
   "source": [
    "# evaluate the base model\n",
    "scores = dict()\n",
    "\n",
    "\n",
    "train_acc, test_acc = evaluate_model(model, trainX, testX, trainy, testy)\n",
    "\n",
    "print('> layers=%d, train=%.3f, test=%.3f' % (len(model.layers), train_acc, test_acc))\n",
    "\n",
    "\n",
    "scores[len(model.layers)] = (train_acc, test_acc)"
   ]
  },
  {
   "cell_type": "code",
   "execution_count": null,
   "metadata": {},
   "outputs": [],
   "source": []
  },
  {
   "cell_type": "code",
   "execution_count": 9,
   "metadata": {},
   "outputs": [
    {
     "name": "stdout",
     "output_type": "stream",
     "text": [
      "> layers=3, train=0.838, test=0.830\n",
      "> layers=4, train=0.836, test=0.824\n",
      "> layers=5, train=0.832, test=0.822\n",
      "> layers=6, train=0.832, test=0.824\n",
      "> layers=7, train=0.830, test=0.824\n",
      "> layers=8, train=0.818, test=0.826\n",
      "> layers=9, train=0.844, test=0.826\n",
      "> layers=10, train=0.826, test=0.822\n",
      "> layers=11, train=0.832, test=0.824\n",
      "> layers=12, train=0.836, test=0.822\n"
     ]
    }
   ],
   "source": [
    "# add layers and evaluate the updated model\n",
    "n_layers = 10\n",
    "\n",
    "\n",
    "for i in range(n_layers):\n",
    "    # add layer\n",
    "    add_layer(model, trainX, trainy)\n",
    "\n",
    "    # evaluate model\n",
    "    train_acc, test_acc = evaluate_model(model, trainX, testX, trainy, testy)\n",
    "    print('> layers=%d, train=%.3f, test=%.3f' % (len(model.layers), train_acc, test_acc))\n",
    "\n",
    "    # store scores for plotting\n",
    "    scores[len(model.layers)] = (train_acc, test_acc)"
   ]
  },
  {
   "cell_type": "code",
   "execution_count": 11,
   "metadata": {},
   "outputs": [
    {
     "data": {
      "text/plain": [
       "{2: (0.8320000171661377, 0.8199999928474426),\n",
       " 3: (0.8379999995231628, 0.8299999833106995),\n",
       " 4: (0.8360000252723694, 0.8240000009536743),\n",
       " 5: (0.8320000171661377, 0.8220000267028809),\n",
       " 6: (0.8320000171661377, 0.8240000009536743),\n",
       " 7: (0.8299999833106995, 0.8240000009536743),\n",
       " 8: (0.8180000185966492, 0.8259999752044678),\n",
       " 9: (0.843999981880188, 0.8259999752044678),\n",
       " 10: (0.8259999752044678, 0.8220000267028809),\n",
       " 11: (0.8320000171661377, 0.8240000009536743),\n",
       " 12: (0.8360000252723694, 0.8220000267028809)}"
      ]
     },
     "execution_count": 11,
     "metadata": {},
     "output_type": "execute_result"
    }
   ],
   "source": [
    "scores"
   ]
  },
  {
   "cell_type": "code",
   "execution_count": null,
   "metadata": {},
   "outputs": [],
   "source": []
  },
  {
   "cell_type": "code",
   "execution_count": null,
   "metadata": {},
   "outputs": [],
   "source": [
    "# In this case, we can see that the baseline model does reasonably well on this problem. As the\n",
    "# layers are increased, we can roughly see an increase in accuracy for the model on the training\n",
    "# dataset, likely as it is beginning to overfit the data. We see a rough drop in classification\n",
    "# accuracy on the test dataset, likely because of the overfitting."
   ]
  },
  {
   "cell_type": "code",
   "execution_count": 10,
   "metadata": {},
   "outputs": [
    {
     "data": {
      "image/png": "[encoded data removed]",
      "text/plain": [
       "<Figure size 432x288 with 1 Axes>"
      ]
     },
     "metadata": {
      "needs_background": "light"
     },
     "output_type": "display_data"
    }
   ],
   "source": [
    "# plot number of added layers vs accuracy\n",
    "pyplot.plot(scores.keys(), [scores[k][0] for k in scores.keys()], label='train', marker='.')\n",
    "pyplot.plot(scores.keys(), [scores[k][1] for k in scores.keys()], label='test', marker='.')\n",
    "pyplot.legend()\n",
    "pyplot.show()"
   ]
  },
  {
   "cell_type": "code",
   "execution_count": null,
   "metadata": {},
   "outputs": [],
   "source": [
    "# In this case, the plot suggests a slight overfitting of the training dataset"
   ]
  },
  {
   "cell_type": "code",
   "execution_count": null,
   "metadata": {},
   "outputs": [],
   "source": []
  },
  {
   "cell_type": "code",
   "execution_count": null,
   "metadata": {},
   "outputs": [],
   "source": []
  },
  {
   "cell_type": "code",
   "execution_count": null,
   "metadata": {},
   "outputs": [],
   "source": []
  }
 ],
 "metadata": {
  "kernelspec": {
   "display_name": "Python 3",
   "language": "python",
   "name": "python3"
  },
  "language_info": {
   "codemirror_mode": {
    "name": "ipython",
    "version": 3
   },
   "file_extension": ".py",
   "mimetype": "text/x-python",
   "name": "python",
   "nbconvert_exporter": "python",
   "pygments_lexer": "ipython3",
   "version": "3.7.1"
  }
 },
 "nbformat": 4,
 "nbformat_minor": 4
}
