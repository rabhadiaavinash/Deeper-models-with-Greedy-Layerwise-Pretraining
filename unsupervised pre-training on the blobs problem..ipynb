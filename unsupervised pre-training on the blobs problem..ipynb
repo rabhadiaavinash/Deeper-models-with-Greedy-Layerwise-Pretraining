{
 "cells": [
  {
   "cell_type": "code",
   "execution_count": null,
   "metadata": {},
   "outputs": [],
   "source": []
  },
  {
   "cell_type": "code",
   "execution_count": 1,
   "metadata": {},
   "outputs": [
    {
     "name": "stderr",
     "output_type": "stream",
     "text": [
      "C:\\Anaconda3\\envs\\nlpiaenv\\lib\\site-packages\\sklearn\\utils\\deprecation.py:143: FutureWarning: The sklearn.datasets.samples_generator module is  deprecated in version 0.22 and will be removed in version 0.24. The corresponding classes / functions should instead be imported from sklearn.datasets. Anything that cannot be imported from sklearn.datasets is now part of the private API.\n",
      "  warnings.warn(message, FutureWarning)\n"
     ]
    }
   ],
   "source": [
    "from sklearn.datasets.samples_generator import make_blobs\n",
    "from tensorflow.keras.layers import Dense\n",
    "from tensorflow.keras.models import Sequential\n",
    "from tensorflow.keras.optimizers import SGD\n",
    "from tensorflow.keras.utils import to_categorical\n",
    "from matplotlib import pyplot"
   ]
  },
  {
   "cell_type": "code",
   "execution_count": null,
   "metadata": {},
   "outputs": [],
   "source": []
  },
  {
   "cell_type": "code",
   "execution_count": 2,
   "metadata": {},
   "outputs": [],
   "source": [
    "# prepare the dataset\n",
    "def prepare_data():\n",
    "    # generate 2d classification dataset\n",
    "    X, y = make_blobs(n_samples=1000, centers=3, n_features=2, cluster_std=2, random_state=2)\n",
    "\n",
    "    # one hot encode output variable\n",
    "    y = to_categorical(y)\n",
    "\n",
    "    # split into train and test\n",
    "    n_train = 500\n",
    "    trainX, testX = X[:n_train, :], X[n_train:, :]\n",
    "    trainy, testy = y[:n_train], y[n_train:]\n",
    "    return trainX, testX, trainy, testy"
   ]
  },
  {
   "cell_type": "code",
   "execution_count": null,
   "metadata": {},
   "outputs": [],
   "source": []
  },
  {
   "cell_type": "code",
   "execution_count": 3,
   "metadata": {},
   "outputs": [],
   "source": [
    "# define, fit and evaluate the base autoencoder\n",
    "def base_autoencoder(trainX, testX):\n",
    "    \n",
    "    # define model\n",
    "    model = Sequential()\n",
    "    model.add(Dense(10, input_dim=2, activation='relu', kernel_initializer='he_uniform'))\n",
    "    model.add(Dense(2, activation='linear'))\n",
    "\n",
    "    # compile model\n",
    "    model.compile(loss='mse', optimizer=SGD(lr=0.01, momentum=0.9))\n",
    "\n",
    "    # fit model\n",
    "    model.fit(trainX, trainX, epochs=100, verbose=0)\n",
    "    # evaluate reconstruction loss\n",
    "    train_mse = model.evaluate(trainX, trainX, verbose=0)\n",
    "    test_mse = model.evaluate(testX, testX, verbose=0)\n",
    "    print('> reconstruction error train=%.3f, test=%.3f' % (train_mse, test_mse))\n",
    "    return model"
   ]
  },
  {
   "cell_type": "code",
   "execution_count": null,
   "metadata": {},
   "outputs": [],
   "source": []
  },
  {
   "cell_type": "code",
   "execution_count": 4,
   "metadata": {},
   "outputs": [],
   "source": [
    "# evaluate the autoencoder as a classifier\n",
    "def evaluate_autoencoder_as_classifier(model, trainX, trainy, testX, testy):\n",
    "    \n",
    "    # remember the current output layer\n",
    "    output_layer = model.layers[-1]\n",
    "\n",
    "    # remove the output layer\n",
    "    model.pop()\n",
    "\n",
    "    # mark all remaining layers as non-trainable\n",
    "    for layer in model.layers:\n",
    "        layer.trainable = False\n",
    "\n",
    "    # add new output layer\n",
    "    model.add(Dense(3, activation='softmax'))\n",
    "\n",
    "    # compile model\n",
    "    model.compile(loss='categorical_crossentropy', optimizer=SGD(lr=0.01, momentum=0.9),metrics=['accuracy'])\n",
    "\n",
    "    # fit model\n",
    "    model.fit(trainX, trainy, epochs=100, verbose=0)\n",
    "    # evaluate model\n",
    "    _, train_acc = model.evaluate(trainX, trainy, verbose=0)\n",
    "    _, test_acc = model.evaluate(testX, testy, verbose=0)\n",
    "\n",
    "    # put the model back together\n",
    "    model.pop()\n",
    "    model.add(output_layer)\n",
    "    model.compile(loss='mse', optimizer=SGD(lr=0.01, momentum=0.9))\n",
    "    return train_acc, test_acc"
   ]
  },
  {
   "cell_type": "code",
   "execution_count": null,
   "metadata": {},
   "outputs": [],
   "source": []
  },
  {
   "cell_type": "code",
   "execution_count": 5,
   "metadata": {},
   "outputs": [],
   "source": [
    "# add one new layer and re-train only the new layer\n",
    "def add_layer_to_autoencoder(model, trainX, testX):\n",
    "    \n",
    "    # remember the current output layer\n",
    "    output_layer = model.layers[-1]\n",
    "\n",
    "    # remove the output layer\n",
    "    model.pop()\n",
    "\n",
    "    # mark all remaining layers as non-trainable\n",
    "    for layer in model.layers:\n",
    "        layer.trainable = False\n",
    "\n",
    "    # add a new hidden layer\n",
    "    model.add(Dense(10, activation='relu', kernel_initializer='he_uniform'))\n",
    "\n",
    "    # re-add the output layer\n",
    "    model.add(output_layer)\n",
    "\n",
    "    # fit model\n",
    "    model.fit(trainX, trainX, epochs=100, verbose=0)\n",
    "\n",
    "    # evaluate reconstruction loss\n",
    "    train_mse = model.evaluate(trainX, trainX, verbose=0)\n",
    "    test_mse = model.evaluate(testX, testX, verbose=0)\n",
    "    print('> reconstruction error train=%.3f, test=%.3f' % (train_mse, test_mse))"
   ]
  },
  {
   "cell_type": "code",
   "execution_count": null,
   "metadata": {},
   "outputs": [],
   "source": []
  },
  {
   "cell_type": "code",
   "execution_count": 6,
   "metadata": {},
   "outputs": [],
   "source": [
    "# prepare data\n",
    "trainX, testX, trainy, testy = prepare_data()"
   ]
  },
  {
   "cell_type": "code",
   "execution_count": null,
   "metadata": {},
   "outputs": [],
   "source": []
  },
  {
   "cell_type": "code",
   "execution_count": 7,
   "metadata": {},
   "outputs": [
    {
     "name": "stdout",
     "output_type": "stream",
     "text": [
      "> reconstruction error train=0.000, test=0.000\n"
     ]
    }
   ],
   "source": [
    "# get the base autoencoder\n",
    "model = base_autoencoder(trainX, testX)"
   ]
  },
  {
   "cell_type": "code",
   "execution_count": null,
   "metadata": {},
   "outputs": [],
   "source": []
  },
  {
   "cell_type": "code",
   "execution_count": 8,
   "metadata": {},
   "outputs": [
    {
     "name": "stdout",
     "output_type": "stream",
     "text": [
      "> classifier accuracy layers=2, train=0.840, test=0.834\n"
     ]
    }
   ],
   "source": [
    "# evaluate the base model\n",
    "scores = dict()\n",
    "train_acc, test_acc = evaluate_autoencoder_as_classifier(model, trainX, trainy, testX,testy)\n",
    "print('> classifier accuracy layers=%d, train=%.3f, test=%.3f' % (len(model.layers),train_acc, test_acc))\n",
    "scores[len(model.layers)] = (train_acc, test_acc)"
   ]
  },
  {
   "cell_type": "code",
   "execution_count": null,
   "metadata": {},
   "outputs": [],
   "source": []
  },
  {
   "cell_type": "code",
   "execution_count": 9,
   "metadata": {},
   "outputs": [
    {
     "name": "stdout",
     "output_type": "stream",
     "text": [
      "> reconstruction error train=0.002, test=0.003\n",
      "> classifier accuracy layers=3, train=0.832, test=0.836\n",
      "> reconstruction error train=0.002, test=0.005\n",
      "> classifier accuracy layers=4, train=0.824, test=0.830\n",
      "> reconstruction error train=0.004, test=0.009\n",
      "> classifier accuracy layers=5, train=0.826, test=0.832\n",
      "> reconstruction error train=0.002, test=0.005\n",
      "> classifier accuracy layers=6, train=0.816, test=0.838\n",
      "> reconstruction error train=0.003, test=0.007\n",
      "> classifier accuracy layers=7, train=0.820, test=0.840\n"
     ]
    }
   ],
   "source": [
    "# add layers and evaluate the updated model\n",
    "n_layers = 5\n",
    "\n",
    "\n",
    "for _ in range(n_layers):\n",
    "    # add layer\n",
    "    add_layer_to_autoencoder(model, trainX, testX)\n",
    "\n",
    "    # evaluate model\n",
    "    train_acc, test_acc = evaluate_autoencoder_as_classifier(model, trainX, trainy, testX,testy)\n",
    "    print('> classifier accuracy layers=%d, train=%.3f, test=%.3f' % (len(model.layers),train_acc, test_acc))\n",
    "    \n",
    "    # store scores for plotting\n",
    "    scores[len(model.layers)] = (train_acc, test_acc)"
   ]
  },
  {
   "cell_type": "code",
   "execution_count": null,
   "metadata": {},
   "outputs": [],
   "source": []
  },
  {
   "cell_type": "code",
   "execution_count": 10,
   "metadata": {},
   "outputs": [
    {
     "data": {
      "image/png": "[encoded data removed]",
      "text/plain": [
       "<Figure size 432x288 with 1 Axes>"
      ]
     },
     "metadata": {
      "needs_background": "light"
     },
     "output_type": "display_data"
    }
   ],
   "source": [
    "# plot number of added layers vs accuracy\n",
    "keys = scores.keys()\n",
    "pyplot.plot(keys, [scores[k][0] for k in keys], label='train', marker='.')\n",
    "pyplot.plot(keys, [scores[k][1] for k in keys], label='test', marker='.')\n",
    "pyplot.legend()\n",
    "pyplot.show()"
   ]
  },
  {
   "cell_type": "code",
   "execution_count": null,
   "metadata": {},
   "outputs": [],
   "source": []
  },
  {
   "cell_type": "code",
   "execution_count": null,
   "metadata": {},
   "outputs": [],
   "source": []
  },
  {
   "cell_type": "code",
   "execution_count": null,
   "metadata": {},
   "outputs": [],
   "source": []
  },
  {
   "cell_type": "code",
   "execution_count": null,
   "metadata": {},
   "outputs": [],
   "source": []
  },
  {
   "cell_type": "code",
   "execution_count": null,
   "metadata": {},
   "outputs": [],
   "source": []
  },
  {
   "cell_type": "code",
   "execution_count": null,
   "metadata": {},
   "outputs": [],
   "source": []
  }
 ],
 "metadata": {
  "kernelspec": {
   "display_name": "Python 3",
   "language": "python",
   "name": "python3"
  },
  "language_info": {
   "codemirror_mode": {
    "name": "ipython",
    "version": 3
   },
   "file_extension": ".py",
   "mimetype": "text/x-python",
   "name": "python",
   "nbconvert_exporter": "python",
   "pygments_lexer": "ipython3",
   "version": "3.7.1"
  }
 },
 "nbformat": 4,
 "nbformat_minor": 4
}
